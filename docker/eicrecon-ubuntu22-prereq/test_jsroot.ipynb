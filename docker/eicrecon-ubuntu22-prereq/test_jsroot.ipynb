{
 "nbformat": 4,
 "nbformat_minor": 2,
 "metadata": {
  "language_info": {
   "name": "python",
   "codemirror_mode": {
    "name": "ipython",
    "version": 3
   }
  },
  "orig_nbformat": 2,
  "file_extension": ".py",
  "mimetype": "text/x-python",
  "name": "python",
  "npconvert_exporter": "python",
  "pygments_lexer": "ipython3",
  "version": 3
 },
 "cells": [
  {
   "cell_type": "code",
   "execution_count": null,
   "metadata": {},
   "outputs": [],
   "source": [
    "import ROOT\n",
    "%jsroot on"
   ]
  },
  {
   "cell_type": "code",
   "execution_count": null,
   "metadata": {},
   "outputs": [],
   "source": [
    "\n",
    "from ROOT import gROOT, TCanvas, TF1\n",
    " \n",
    "gROOT.Reset()\n",
    "c1 = TCanvas( 'c1', 'Example with Formula', 200, 10, 700, 500 )\n",
    " \n",
    "#\n",
    "# Create a one dimensional function and draw it\n",
    "#\n",
    "fun1 = TF1( 'fun1', 'abs(sin(x)/x)', 0, 10 )\n",
    "c1.SetGridx()\n",
    "c1.SetGridy()\n",
    "fun1.Draw()\n",
    "c1.Update()\n",
    "\n",
    " "
   ]
  }
 ]
}